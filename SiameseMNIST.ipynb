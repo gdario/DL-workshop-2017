{
  "nbformat": 4,
  "nbformat_minor": 0,
  "metadata": {
    "colab": {
      "name": "Copy of SiameseMNIST.ipynb",
      "provenance": [],
      "collapsed_sections": [],
      "authorship_tag": "ABX9TyOKepxMneaG7b/LiFh1ei1N",
      "include_colab_link": true
    },
    "kernelspec": {
      "name": "python3",
      "display_name": "Python 3"
    },
    "language_info": {
      "name": "python"
    },
    "accelerator": "GPU"
  },
  "cells": [
    {
      "cell_type": "markdown",
      "metadata": {
        "id": "view-in-github",
        "colab_type": "text"
      },
      "source": [
        "<a href=\"https://colab.research.google.com/github/gdario/DL-workshop-2017/blob/master/SiameseMNIST.ipynb\" target=\"_parent\"><img src=\"https://colab.research.google.com/assets/colab-badge.svg\" alt=\"Open In Colab\"/></a>"
      ]
    },
    {
      "cell_type": "markdown",
      "metadata": {
        "id": "cyOv_C2jK7rq"
      },
      "source": [
        "In this notebook we create a siamese network to classify pairs of MNIST digits. The classifier must assess whether the two images represent the same digit or two different digits. For this purpose we build a `Dataset` that, for a given index `idx` will return with probability 0.5 a random image from the same class or an image from a different class. The model is just a MLP, and the purpose of this notebook is mainly to show how to build a non-standard `Dataset` and `DataLoader`."
      ]
    },
    {
      "cell_type": "code",
      "metadata": {
        "id": "Hf-bopjgnCWy",
        "colab": {
          "base_uri": "https://localhost:8080/"
        },
        "outputId": "8a067e8d-6baa-4472-e977-2bfb511ffc5e"
      },
      "source": [
        "import gzip\n",
        "import pickle\n",
        "import random\n",
        "import requests\n",
        "from pathlib import Path\n",
        "from matplotlib import pyplot\n",
        "import numpy as np\n",
        "import torch\n",
        "import torch.optim as optim\n",
        "import torch.nn as nn\n",
        "import torch.nn.functional as F\n",
        "from torch.utils.data import Dataset, DataLoader\n",
        "\n",
        "device = torch.device('cuda' if torch.cuda.is_available() else 'cpu')\n",
        "torch.cuda.current_device()"
      ],
      "execution_count": 1,
      "outputs": [
        {
          "output_type": "execute_result",
          "data": {
            "text/plain": [
              "0"
            ]
          },
          "metadata": {
            "tags": []
          },
          "execution_count": 1
        }
      ]
    },
    {
      "cell_type": "code",
      "metadata": {
        "colab": {
          "base_uri": "https://localhost:8080/",
          "height": 282
        },
        "id": "zSBy4EE0RPae",
        "outputId": "6e96e907-8f93-4d6a-9b53-8b6117963516"
      },
      "source": [
        "DATA_PATH = Path(\"data\")\n",
        "PATH = DATA_PATH / \"mnist\"\n",
        "PATH.mkdir(parents=True, exist_ok=True)\n",
        "URL = \"https://github.com/pytorch/tutorials/raw/master/_static/\"\n",
        "FILENAME = \"mnist.pkl.gz\"\n",
        "\n",
        "if not (PATH / FILENAME).exists():\n",
        "        content = requests.get(URL + FILENAME).content\n",
        "        (PATH / FILENAME).open(\"wb\").write(content)\n",
        "\n",
        "with gzip.open((PATH / FILENAME).as_posix(), \"rb\") as f:\n",
        "        ((x_train, y_train), (x_valid, y_valid), _) = pickle.load(\n",
        "            f, encoding=\"latin-1\")\n",
        "\n",
        "pyplot.imshow(x_train[0].reshape((28, 28)), cmap=\"gray\")\n",
        "print(x_train.shape)"
      ],
      "execution_count": 2,
      "outputs": [
        {
          "output_type": "stream",
          "text": [
            "(50000, 784)\n"
          ],
          "name": "stdout"
        },
        {
          "output_type": "display_data",
          "data": {
            "image/png": "[encoded data removed]",
            "text/plain": [
              "<Figure size 432x288 with 1 Axes>"
            ]
          },
          "metadata": {
            "tags": [],
            "needs_background": "light"
          }
        }
      ]
    },
    {
      "cell_type": "markdown",
      "metadata": {
        "id": "DytRg0tv2TSL"
      },
      "source": [
        "The `y_train` and `y_valid` labels are not the ones we will use in our model. These are the original labels `[0, ..., 9]`, while we will be using a binary label that is equal to `1` when two images represent the same digit."
      ]
    },
    {
      "cell_type": "code",
      "metadata": {
        "colab": {
          "base_uri": "https://localhost:8080/"
        },
        "id": "wFmXQ6C92sSc",
        "outputId": "a21ae3a5-5eca-4d3d-b43c-fb185f601e12"
      },
      "source": [
        "y_valid.dtype"
      ],
      "execution_count": 3,
      "outputs": [
        {
          "output_type": "execute_result",
          "data": {
            "text/plain": [
              "dtype('int64')"
            ]
          },
          "metadata": {
            "tags": []
          },
          "execution_count": 3
        }
      ]
    },
    {
      "cell_type": "code",
      "metadata": {
        "colab": {
          "base_uri": "https://localhost:8080/"
        },
        "id": "89SowtwDZ_p_",
        "outputId": "ef6d8b07-171d-40c7-a77a-d524199b23df"
      },
      "source": [
        "x_train, x_valid = torch.tensor(x_train), torch.tensor(x_valid)\n",
        "# y_train, y_valid = torch.tensor(y_train), torch.tensor(y_valid)\n",
        "x_train.dtype, x_valid.dtype, y_train.dtype, y_valid.dtype"
      ],
      "execution_count": 4,
      "outputs": [
        {
          "output_type": "execute_result",
          "data": {
            "text/plain": [
              "(torch.float32, torch.float32, dtype('int64'), dtype('int64'))"
            ]
          },
          "metadata": {
            "tags": []
          },
          "execution_count": 4
        }
      ]
    },
    {
      "cell_type": "code",
      "metadata": {
        "colab": {
          "base_uri": "https://localhost:8080/"
        },
        "id": "9-7uh8iUbbXO",
        "outputId": "7dbafa7f-659d-4091-a18c-a890793646c3"
      },
      "source": [
        "y_valid[5].shape"
      ],
      "execution_count": 5,
      "outputs": [
        {
          "output_type": "execute_result",
          "data": {
            "text/plain": [
              "()"
            ]
          },
          "metadata": {
            "tags": []
          },
          "execution_count": 5
        }
      ]
    },
    {
      "cell_type": "markdown",
      "metadata": {
        "id": "kH7aklbZ1xWA"
      },
      "source": [
        "We want to create a dataloader that returns, with the same probability, two different images of the same number, or two images of two different numbers. There are 10 classes, therefore the probability of each class is 1/10. The probability of getting the same number twice is therefore 1/00 = 0.01. There are 10 classes, therefore the probability of getting the same class twice is 10%. We generate pairs of class labels c1 and c2 and with probability 60% we set c2 to the same value of c1. The cutoff is 60% because 10% of the cases will contain the same class anyway."
      ]
    },
    {
      "cell_type": "code",
      "metadata": {
        "id": "-fCtPh-KGluX"
      },
      "source": [
        "class MNISTpairSet(Dataset):\n",
        "    def __init__(self, x_data, y_data):\n",
        "        super().__init__()\n",
        "        self.x = x_data\n",
        "        self.y = y_data\n",
        "        self.classes = torch.tensor([[0], [1]], dtype=torch.float32)\n",
        "\n",
        "    def __len__(self):\n",
        "        return self.y.shape[0]\n",
        "\n",
        "    def __getitem__(self, idx):\n",
        "        x1 = self.x[idx]\n",
        "        y1 = self.y[idx]\n",
        "        y2 = random.randint(0, 9)\n",
        "        if random.random() > 0.6:\n",
        "            y2 = y1\n",
        "        tmp = self.x[self.y == y2]\n",
        "        # idx2 = torch.randint(low=0, high=tmp.shape[0], size=(1,)).item()\n",
        "        idx2 = random.randint(0, tmp.shape[0] - 1)\n",
        "        x2 = tmp[idx2]\n",
        "        y = self.classes[1] if y1 == y2 else self.classes[0]\n",
        "        # sample = {'x1': x1, 'x2': x2, 'y': y}\n",
        "        return (x1, x2, y)"
      ],
      "execution_count": 6,
      "outputs": []
    },
    {
      "cell_type": "markdown",
      "metadata": {
        "id": "ICZIJrDeMCMD"
      },
      "source": [
        "The model below contains two layers the weights of which are shared betwee the two branches."
      ]
    },
    {
      "cell_type": "code",
      "metadata": {
        "id": "XBips6quiHyy"
      },
      "source": [
        "dataset_train = MNISTpairSet(x_train, y_train)\n",
        "dataset_valid = MNISTpairSet(x_valid, y_valid)\n",
        "\n",
        "dataloader_train = DataLoader(dataset_train, batch_size=64, shuffle=False)\n",
        "dataloader_valid = DataLoader(dataset_valid, batch_size=64, shuffle=False)"
      ],
      "execution_count": 7,
      "outputs": []
    },
    {
      "cell_type": "code",
      "metadata": {
        "id": "owQQGuJQ4Fui"
      },
      "source": [
        "class SiameseNet(nn.Module):\n",
        "    def __init__(self):\n",
        "        super().__init__()\n",
        "        self.shared_linear1 = nn.Linear(in_features=784, out_features=256)\n",
        "        self.shared_linear2 = nn.Linear(in_features=256, out_features=128)\n",
        "        self.linear1 = nn.Linear(in_features=256, out_features=128)\n",
        "        self.linear2 = nn.Linear(in_features=128, out_features=1)\n",
        "\n",
        "    def forward(self, x1, x2):\n",
        "        x1 = F.relu(self.shared_linear1(x1))\n",
        "        x2 = F.relu(self.shared_linear1(x2))\n",
        "        x1 = F.relu(self.shared_linear2(x1))\n",
        "        x2 = F.relu(self.shared_linear2(x2))\n",
        "        x = torch.cat((x1, x2), dim=1)\n",
        "        x = F.relu(self.linear1(x))\n",
        "        x = self.linear2(x)\n",
        "        return x"
      ],
      "execution_count": 8,
      "outputs": []
    },
    {
      "cell_type": "code",
      "metadata": {
        "id": "_NXc7BQ_beih"
      },
      "source": [
        "def training_loop(train_loader, valid_loader, device, model, loss_fn,\n",
        "                  optimizer):\n",
        "    losses = []\n",
        "    batch_num = 0\n",
        "    for x1, x2, y in train_loader:\n",
        "        batch_num += 1\n",
        "        x1 = x1.to(device)\n",
        "        x2 = x2.to(device)\n",
        "        y = y.to(device)\n",
        "        preds = model(x1, x2)\n",
        "        loss = loss_fn(preds, y)\n",
        "        optimizer.zero_grad()\n",
        "        loss.backward()\n",
        "        optimizer.step()\n",
        "        losses.append(loss.item())\n",
        "        if batch_num % 200 == 0:\n",
        "            print('Batch: {}, Train loss: {:.4f}'.format(\n",
        "                batch_num+1, loss.item()))\n",
        "            validation_loop(valid_loader, device, model, loss_fn)"
      ],
      "execution_count": 9,
      "outputs": []
    },
    {
      "cell_type": "code",
      "metadata": {
        "id": "7RF_rAhPiGxx"
      },
      "source": [
        "def validation_loop(dataloader, device, model, loss_fn):\n",
        "    size = len(dataloader)  # Number of minibatches, not of observations\n",
        "    test_loss, correct = 0, 0\n",
        "    with torch.no_grad():\n",
        "        for x1, x2, y in dataloader:\n",
        "            x1 = x1.to(device)\n",
        "            x2 = x2.to(device)\n",
        "            y = y.to(device)\n",
        "            preds = model(x1, x2)\n",
        "            test_loss += loss_fn(preds, y)\n",
        "            yhat = (torch.sigmoid(preds) > 0.5).type(torch.float)\n",
        "            correct += (yhat == y).type(torch.float).mean().item()\n",
        "        test_loss /= size\n",
        "        correct /= size\n",
        "        print(f'Test Loss: {test_loss:>.4} - Test Accuracy {correct:>0.3f}')"
      ],
      "execution_count": 10,
      "outputs": []
    },
    {
      "cell_type": "code",
      "metadata": {
        "colab": {
          "base_uri": "https://localhost:8080/"
        },
        "id": "QpTHEZ9LHVHW",
        "outputId": "64d59257-4638-4b82-e149-a5d99a5e1e50"
      },
      "source": [
        "NUM_EPOCHS = 5\n",
        "\n",
        "model = SiameseNet()\n",
        "model = model.to(device)\n",
        "loss_fn = nn.BCEWithLogitsLoss()\n",
        "optimizer = optim.Adam(model.parameters(), lr=0.001, betas=(0.9, 0.999))\n",
        "\n",
        "for epoch in range(NUM_EPOCHS):\n",
        "    print('Epoch: {}'.format(epoch))\n",
        "    print('-----------------------')\n",
        "    training_loop(dataloader_train, dataloader_valid, device, model,\n",
        "                  loss_fn, optimizer)"
      ],
      "execution_count": null,
      "outputs": [
        {
          "output_type": "stream",
          "text": [
            "Epoch: 0\n",
            "-----------------------\n",
            "Batch: 201, Train loss: 0.4306\n",
            "Test Loss: 0.4465 - Test Accuracy 0.782\n",
            "Batch: 401, Train loss: 0.3244\n",
            "Test Loss: 0.3412 - Test Accuracy 0.856\n",
            "Batch: 601, Train loss: 0.2609\n",
            "Test Loss: 0.2652 - Test Accuracy 0.896\n"
          ],
          "name": "stdout"
        }
      ]
    }
  ]
}